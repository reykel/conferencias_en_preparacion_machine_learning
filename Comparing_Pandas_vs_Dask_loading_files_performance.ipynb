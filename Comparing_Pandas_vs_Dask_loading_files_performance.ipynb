{
  "cells": [
    {
      "cell_type": "markdown",
      "metadata": {
        "id": "view-in-github",
        "colab_type": "text"
      },
      "source": [
        "<a href=\"https://colab.research.google.com/github/reykel/machine_learning_keras_tf/blob/main/Comparing_Pandas_vs_Dask_loading_files_performance.ipynb\" target=\"_parent\"><img src=\"https://colab.research.google.com/assets/colab-badge.svg\" alt=\"Open In Colab\"/></a>"
      ]
    },
    {
      "cell_type": "code",
      "execution_count": null,
      "metadata": {
        "id": "HujJ8-4wupwK"
      },
      "outputs": [],
      "source": [
        "import pandas as pd\n",
        "import dask.dataframe as dd\n",
        "import matplotlib.pyplot as plt\n",
        "from google.colab import drive"
      ]
    },
    {
      "cell_type": "code",
      "source": [
        "drive.mount('/content/drive')\n",
        "DATA_PATH = \"/content/drive/MyDrive/data\""
      ],
      "metadata": {
        "id": "cl_ymNrIt-AE"
      },
      "execution_count": null,
      "outputs": []
    },
    {
      "cell_type": "code",
      "source": [
        "%%time\n",
        "df = pd.read_csv(DATA_PATH + '/Libro1.csv')\n",
        "type(df)"
      ],
      "metadata": {
        "id": "mtXdLNyy5TqN"
      },
      "execution_count": null,
      "outputs": []
    },
    {
      "cell_type": "code",
      "execution_count": null,
      "metadata": {
        "id": "tvlucwqiupwW"
      },
      "outputs": [],
      "source": [
        "%%time\n",
        "df = dd.read_csv(DATA_PATH + '/Libro1.csv')\n",
        "type(df)"
      ]
    },
    {
      "cell_type": "code",
      "source": [
        "%%time\n",
        "files = [DATA_PATH + '/Libro1.csv', DATA_PATH + '/Libro2.csv', DATA_PATH + '/Libro3.csv']\n",
        "df = dd.read_csv(files)\n",
        "type(df)"
      ],
      "metadata": {
        "id": "VFMXIFk9yFoW"
      },
      "execution_count": null,
      "outputs": []
    },
    {
      "cell_type": "markdown",
      "source": [
        "### **Visualización de los resultados**"
      ],
      "metadata": {
        "id": "3Fl2pk3-53bM"
      }
    },
    {
      "cell_type": "code",
      "execution_count": null,
      "metadata": {
        "id": "zWEW_AkWupwY"
      },
      "outputs": [],
      "source": [
        "colours = ['red', 'green', 'blue']\n",
        "\n",
        "fig = plt.figure()\n",
        "ax = fig.add_axes([0,0,1,1])\n",
        "ax.set_ylabel('ms')\n",
        "ax.set_title('Speed of reading csv files')\n",
        "lib = ['pandas', 'dask single file', 'dask multiple files']\n",
        "perf = [3770, 52.2, 16.3]\n",
        "ax.bar(lib,perf, color=colours)\n",
        "plt.show()"
      ]
    }
  ],
  "metadata": {
    "kernelspec": {
      "display_name": "Python 3.9.0 64-bit ('3.9.0')",
      "language": "python",
      "name": "python3"
    },
    "language_info": {
      "codemirror_mode": {
        "name": "ipython",
        "version": 3
      },
      "file_extension": ".py",
      "mimetype": "text/x-python",
      "name": "python",
      "nbconvert_exporter": "python",
      "pygments_lexer": "ipython3",
      "version": "3.9.0"
    },
    "orig_nbformat": 4,
    "vscode": {
      "interpreter": {
        "hash": "285b4027c56aef32f9cffa7b798ac9ff266d7923f973d093da0977b0f49ab1ea"
      }
    },
    "colab": {
      "provenance": [],
      "include_colab_link": true
    },
    "gpuClass": "standard"
  },
  "nbformat": 4,
  "nbformat_minor": 0
}